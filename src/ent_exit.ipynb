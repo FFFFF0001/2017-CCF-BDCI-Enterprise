{
 "cells": [
  {
   "cell_type": "code",
   "execution_count": 153,
   "metadata": {},
   "outputs": [],
   "source": [
    "from __future__ import division\n",
    "import pandas as pd\n",
    "import numpy as np\n",
    "import xgboost as xgb\n",
    "from sklearn.linear_model import LogisticRegression\n",
    "from sklearn.cross_validation import cross_val_score"
   ]
  },
  {
   "cell_type": "code",
   "execution_count": 154,
   "metadata": {},
   "outputs": [],
   "source": [
    "train = pd.read_csv('../data/input/train.csv')\n",
    "enbase = pd.read_csv('../data/input/1entbase.csv')\n",
    "alter = pd.read_csv('../data/input/2alter.csv')\n",
    "branch = pd.read_csv('../data/input/3branch.csv')\n",
    "invest = pd.read_csv('../data/input/4invest.csv')\n",
    "right = pd.read_csv('../data/input/5right.csv')\n",
    "project = pd.read_csv('../data/input/6project.csv')\n",
    "lawsuit = pd.read_csv('../data/input/7lawsuit.csv')\n",
    "breakfaith = pd.read_csv('../data/input/8breakfaith.csv')\n",
    "recruit = pd.read_csv('../data/input/9recruit.csv')\n",
    "qualification = pd.read_csv('../data/input/10qualification.csv')\n",
    "test = pd.read_csv('../data/input/evaluation_public.csv')"
   ]
  },
  {
   "cell_type": "code",
   "execution_count": 155,
   "metadata": {
    "scrolled": true
   },
   "outputs": [],
   "source": [
    "enbase = enbase.fillna(value={'ZCZB': 0, 'MPNUM': 0, 'INUM': 0, 'ENUM': 0, 'FINZB': 0, 'FSTINUM': 0, 'TZINUM': 0})  # 未处理 HY；ZCZB 为 0 表示缺失或错误"
   ]
  },
  {
   "cell_type": "code",
   "execution_count": 156,
   "metadata": {},
   "outputs": [
    {
     "data": {
      "text/plain": [
       "(436798, 12)"
      ]
     },
     "execution_count": 156,
     "metadata": {},
     "output_type": "execute_result"
    }
   ],
   "source": [
    "enbase.shape"
   ]
  },
  {
   "cell_type": "code",
   "execution_count": 157,
   "metadata": {
    "collapsed": true
   },
   "outputs": [],
   "source": [
    "def translate_date(date):\n",
    "    year = int(date[:4])\n",
    "    month = int(date[-2:])\n",
    "    return (year - 2010) * 12 + month"
   ]
  },
  {
   "cell_type": "code",
   "execution_count": 158,
   "metadata": {
    "collapsed": true
   },
   "outputs": [],
   "source": [
    "def get_alter_feature(df):\n",
    "    df = df.copy()\n",
    "\n",
    "    alt_no = df.groupby(['EID', 'ALTERNO']).size().reset_index()\n",
    "    alt_no = alt_no.groupby('EID')[0].agg([sum, len]).reset_index()\n",
    "    alt_no.columns = ['EID', 'alt_count', 'alt_types_count']\n",
    "\n",
    "    alt_no_oh = df.groupby(['EID', 'ALTERNO']).size().unstack().reset_index()\n",
    "    alt_no_oh.columns = [i if i == 'EID' else 'alt_' + i for i in alt_no_oh.columns]\n",
    "\n",
    "    df['date'] = df['ALTDATE'].apply(translate_date)\n",
    "    date = df.groupby('EID')['date'].agg([min, max, np.ptp, np.std]).reset_index()\n",
    "    date.columns = ['EID', 'alt_date_min', 'alt_date_max', 'alt_date_ptp', 'alt_date_std']\n",
    "\n",
    "    df['altbe'] = df['ALTBE'].str.extract('(\\d+\\.?\\d*)').astype(float)\n",
    "    df['altaf'] = df['ALTAF'].str.extract('(\\d+\\.?\\d*)').astype(float)\n",
    "    alt_be_af = df.groupby('EID')['altbe', 'altaf'].agg([min, max, np.mean]).reset_index()\n",
    "    alt_be_af.columns = ['EID', 'alt_be_min', 'alt_be_max', 'alt_be_mean', 'alt_af_min', 'alt_af_max', 'alt_af_mean']\n",
    "\n",
    "    mydf = pd.merge(alt_no, alt_no_oh, how='left', on='EID')\n",
    "    mydf = pd.merge(mydf, date, how='left', on='EID')\n",
    "    mydf = pd.merge(mydf, alt_be_af, how='left', on='EID')\n",
    "\n",
    "    return mydf"
   ]
  },
  {
   "cell_type": "code",
   "execution_count": 159,
   "metadata": {
    "collapsed": true
   },
   "outputs": [],
   "source": [
    "def get_right_feature(df):\n",
    "    df = df.copy()\n",
    "    \n",
    "    rig_type = df.groupby(['EID', 'RIGHTTYPE']).size().reset_index()\n",
    "    rig_type = rig_type.groupby('EID')[0].agg([sum, len]).reset_index()\n",
    "    rig_type.columns = ['EID', 'rig_count', 'rig_types_count']\n",
    "    \n",
    "    rig_type_oh_rate = df.groupby(['EID', 'RIGHTTYPE']).size().unstack().reset_index()\n",
    "    rig_type_oh_rate.iloc[:, 1:] = rig_type_oh_rate.iloc[:, 1:].div(rig_type['rig_count'], axis='index')\n",
    "    rig_type_oh_rate.columns = [i if i == 'EID' else 'rig_rate_' + str(i) for i in rig_type_oh_rate.columns]\n",
    "    \n",
    "    df['ask_month'] = (pd.to_datetime(df['ASKDATE']).dt.to_period(\"M\") - (pd.to_datetime('2010-01-01').to_period(\"M\"))).fillna(-999).astype(int).replace(-999, np.NaN)\n",
    "    ask_date = df.groupby('EID')['ask_month'].agg([max, min, np.ptp, np.std]).reset_index()\n",
    "    ask_date.columns = ['EID', 'rig_askdate_max', 'rig_askdate_min', 'rig_askdate_ptp', 'rig_askdate_std']\n",
    "\n",
    "    df['get_month'] = (pd.to_datetime(df['FBDATE']).dt.to_period(\"M\") - (pd.to_datetime('2010-01-01').to_period(\"M\"))).fillna(-999).astype(int).replace(-999, np.NaN)\n",
    "    get_date = df.groupby('EID')['get_month'].agg([max, min, np.ptp, np.std]).reset_index()\n",
    "    get_date.columns = ['EID', 'rig_getdate_max', 'rig_getdate_min', 'rig_getdate_ptp', 'rig_getdate_std']\n",
    "    \n",
    "    # bad\n",
    "    unget = df[df.FBDATE.isnull()]\n",
    "    unget = unget.groupby('EID').size().reset_index()\n",
    "    unget.columns = ['EID', 'rig_unget_num']\n",
    "    \n",
    "    right_1year = df[df['ASKDATE'] >= '2015-01'].groupby('EID')['ASKDATE'].count().reset_index()\n",
    "    right_1year.columns = ['EID', 'ask_num(1year)']\n",
    "    right_2year = df[df['ASKDATE'] >= '2014-01'].groupby('EID')['ASKDATE'].count().reset_index()\n",
    "    right_2year.columns = ['EID', 'ask_num(2year)']\n",
    "    right_5year = df[df['ASKDATE'] >= '2010-01'].groupby('EID')['ASKDATE'].count().reset_index()\n",
    "    right_5year.columns = ['EID', 'ask_num(5year)']\n",
    "    right_end_1year = df[df['FBDATE'] >= '2015-01'].groupby('EID')['FBDATE'].count().reset_index()\n",
    "    right_end_1year.columns = ['EID', 'get_num(1year)']\n",
    "    right_end_2year = df[df['FBDATE'] >= '2014-01'].groupby('EID')['FBDATE'].count().reset_index()\n",
    "    right_end_2year.columns = ['EID', 'get_num(2year)']\n",
    "    right_end_5year = df[df['FBDATE'] >= '2010-01'].groupby('EID')['FBDATE'].count().reset_index()\n",
    "    right_end_5year.columns = ['EID', 'get_num(5year)']\n",
    "    \n",
    "    mydf = pd.merge(rig_type, rig_type_oh_rate, how='left', on='EID')\n",
    "    mydf = pd.merge(mydf, ask_date, how='left', on='EID')\n",
    "    mydf = pd.merge(mydf, get_date, how='left', on='EID')\n",
    "    mydf = pd.merge(mydf, unget, how='left', on='EID')\n",
    "    mydf = pd.merge(mydf, right_1year, how='left', on='EID')\n",
    "    mydf = pd.merge(mydf, right_2year, how='left', on='EID')\n",
    "    mydf = pd.merge(mydf, right_5year, how='left', on='EID')\n",
    "    mydf = pd.merge(mydf, right_end_1year, how='left', on='EID')\n",
    "    mydf = pd.merge(mydf, right_end_2year, how='left', on='EID')\n",
    "    mydf = pd.merge(mydf, right_end_5year, how='left', on='EID')\n",
    "    \n",
    "    # bad\n",
    "    mydf['ask_rate(1year)'] = mydf['ask_num(1year)'] / mydf['rig_count']\n",
    "    mydf['ask_rate(2year)'] = mydf['ask_num(2year)'] / mydf['rig_count']\n",
    "    mydf['ask_rate(5year)'] = mydf['ask_num(5year)'] / mydf['rig_count']\n",
    "    mydf['get_rate(1year)'] = mydf['get_num(1year)'] / mydf['rig_count']\n",
    "    mydf['get_rate(2year)'] = mydf['get_num(2year)'] / mydf['rig_count']\n",
    "    mydf['get_rate(5year)'] = mydf['get_num(5year)'] / mydf['rig_count']\n",
    "\n",
    "    return mydf"
   ]
  },
  {
   "cell_type": "code",
   "execution_count": null,
   "metadata": {
    "collapsed": true
   },
   "outputs": [],
   "source": []
  },
  {
   "cell_type": "code",
   "execution_count": 161,
   "metadata": {},
   "outputs": [
    {
     "name": "stderr",
     "output_type": "stream",
     "text": [
      "C:\\ProgramData\\Anaconda2\\lib\\site-packages\\ipykernel\\__main__.py:15: FutureWarning: currently extract(expand=None) means expand=False (return Index/Series/DataFrame) but in a future version of pandas this will be changed to expand=True (return DataFrame)\n",
      "C:\\ProgramData\\Anaconda2\\lib\\site-packages\\ipykernel\\__main__.py:16: FutureWarning: currently extract(expand=None) means expand=False (return Index/Series/DataFrame) but in a future version of pandas this will be changed to expand=True (return DataFrame)\n"
     ]
    }
   ],
   "source": [
    "alter_feat = get_alter_feature(alter)"
   ]
  },
  {
   "cell_type": "code",
   "execution_count": 162,
   "metadata": {},
   "outputs": [],
   "source": [
    "right_feature = get_right_feature(right)"
   ]
  },
  {
   "cell_type": "code",
   "execution_count": null,
   "metadata": {
    "collapsed": true
   },
   "outputs": [],
   "source": []
  },
  {
   "cell_type": "code",
   "execution_count": 163,
   "metadata": {
    "collapsed": true
   },
   "outputs": [],
   "source": [
    "dataset = pd.merge(enbase, alter_feat, on='EID', how='left')\n",
    "dataset = pd.merge(dataset, right_feature, on='EID', how='left')"
   ]
  },
  {
   "cell_type": "code",
   "execution_count": 164,
   "metadata": {
    "collapsed": true
   },
   "outputs": [],
   "source": [
    "trainset = pd.merge(train, dataset, on='EID', how='left')\n",
    "testset = pd.merge(test, dataset, on='EID', how='left')"
   ]
  },
  {
   "cell_type": "code",
   "execution_count": 165,
   "metadata": {},
   "outputs": [
    {
     "name": "stderr",
     "output_type": "stream",
     "text": [
      "C:\\ProgramData\\Anaconda2\\lib\\site-packages\\ipykernel\\__main__.py:2: FutureWarning: currently extract(expand=None) means expand=False (return Index/Series/DataFrame) but in a future version of pandas this will be changed to expand=True (return DataFrame)\n",
      "  from ipykernel import kernelapp as app\n",
      "C:\\ProgramData\\Anaconda2\\lib\\site-packages\\ipykernel\\__main__.py:3: FutureWarning: currently extract(expand=None) means expand=False (return Index/Series/DataFrame) but in a future version of pandas this will be changed to expand=True (return DataFrame)\n",
      "  app.launch_new_instance()\n"
     ]
    }
   ],
   "source": [
    "# EID 前面的字母代表不同省份，已提供了 PROV 列，因此字母是冗余信息，直接舍弃\n",
    "trainset['EID'] = trainset['EID'].str.extract('(\\d+)').astype(int)\n",
    "testset['EID'] = testset['EID'].str.extract('(\\d+)').astype(int)"
   ]
  },
  {
   "cell_type": "code",
   "execution_count": 166,
   "metadata": {},
   "outputs": [
    {
     "name": "stdout",
     "output_type": "stream",
     "text": [
      "(218264, 66) (218264L,) (218247, 66)\n"
     ]
    }
   ],
   "source": [
    "train_feature = trainset.drop(['TARGET', 'ENDDATE'], axis=1)\n",
    "train_label = trainset.TARGET.values\n",
    "test_feature = testset\n",
    "test_index = testset.EID.values\n",
    "print train_feature.shape, train_label.shape, test_feature.shape"
   ]
  },
  {
   "cell_type": "code",
   "execution_count": 167,
   "metadata": {
    "collapsed": true
   },
   "outputs": [],
   "source": [
    "config = {\n",
    "    'rounds': 10000,\n",
    "    'folds': 3\n",
    "}\n",
    "\n",
    "params = {\n",
    "    'booster': 'gbtree',\n",
    "    'objective': 'binary:logistic',\n",
    "#     'objective': 'rank:pairwise',\n",
    "    'stratified': True,\n",
    "    'scale_pos_weights ': 0,\n",
    "    'max_depth': 6,\n",
    "    'min_child_weight': 1,\n",
    "    'gamma': 1,\n",
    "    'subsample': 0.7,\n",
    "    'colsample_bytree': 0.7,\n",
    "    'lambda': 1,\n",
    "\n",
    "    'eta': 0.02,\n",
    "    'seed': 20,\n",
    "    'silent': 1,\n",
    "    'eval_metric': 'auc'\n",
    "}"
   ]
  },
  {
   "cell_type": "code",
   "execution_count": 168,
   "metadata": {
    "collapsed": true
   },
   "outputs": [],
   "source": [
    "def xgb_cv(train_feature, train_label, params, rounds):\n",
    "    params['scale_pos_weights '] = float(len(train_label[train_label == 0])) / len(train_label[train_label == 1])\n",
    "    dtrain = xgb.DMatrix(train_feature, label=train_label)\n",
    "    num_round = rounds\n",
    "    print 'run cv: ' + 'round: ' + str(rounds)\n",
    "    res = xgb.cv(params, dtrain, num_round, verbose_eval=10, early_stopping_rounds=100)\n",
    "    return len(res)\n",
    "\n",
    "\n",
    "def xgb_predict(train_feature, train_label, test_feature, rounds, params):\n",
    "    params['scale_pos_weights '] = float(len(train_label[train_label == 0])) / len(train_label[train_label == 1])\n",
    "    dtrain = xgb.DMatrix(train_feature, label=train_label)\n",
    "    dtest = xgb.DMatrix(test_feature, label=np.zeros(test_feature.shape[0]))\n",
    "    watchlist = [(dtrain, 'train')]\n",
    "    num_round = rounds\n",
    "    model = xgb.train(params, dtrain, num_round, watchlist, verbose_eval=50)\n",
    "    predict = model.predict(dtest)\n",
    "    return model, predict\n",
    "\n",
    "\n",
    "def store_result(test_index, pred, threshold, name):\n",
    "    result = pd.DataFrame({'EID': test_index, 'FORTARGET': 0, 'PROB': pred})\n",
    "    mask = result['PROB'] >= threshold\n",
    "    result.at[mask, 'FORTARGET'] = 1\n",
    "    # result['PROB'] = result['PROB'].apply(lambda x: round(x, 4))\n",
    "    result.to_csv('../data/output/sub/' + name + '.csv', index=0)\n",
    "    return result"
   ]
  },
  {
   "cell_type": "code",
   "execution_count": 169,
   "metadata": {
    "scrolled": true
   },
   "outputs": [
    {
     "name": "stdout",
     "output_type": "stream",
     "text": [
      "run cv: round: 10000\n"
     ]
    },
    {
     "name": "stderr",
     "output_type": "stream",
     "text": [
      "Will train until cv error hasn't decreased in 100 rounds.\n",
      "[0]\tcv-test-auc:0.633604+0.00164348592936\tcv-train-auc:0.640705333333+0.00294726826438\n",
      "[10]\tcv-test-auc:0.65302+0.00156421929409\tcv-train-auc:0.664669666667+0.00148143316495\n",
      "[20]\tcv-test-auc:0.655704333333+0.00217260785437\tcv-train-auc:0.668525666667+0.0013279661977\n",
      "[30]\tcv-test-auc:0.657563+0.00246564028196\tcv-train-auc:0.670435333333+0.00146821940534\n",
      "[40]\tcv-test-auc:0.658307+0.00247828058675\tcv-train-auc:0.672164666667+0.00121746795532\n",
      "[50]\tcv-test-auc:0.659323666667+0.00267813645823\tcv-train-auc:0.674248+0.00125572635023\n",
      "[60]\tcv-test-auc:0.660368333333+0.00294625596685\tcv-train-auc:0.675843333333+0.00128116205931\n",
      "[70]\tcv-test-auc:0.661177666667+0.00275393855334\tcv-train-auc:0.67723+0.00151482958337\n",
      "[80]\tcv-test-auc:0.662302+0.00253011343619\tcv-train-auc:0.678832666667+0.00147435168426\n",
      "[90]\tcv-test-auc:0.663286666667+0.0025979461546\tcv-train-auc:0.680235666667+0.00157965657308\n",
      "[100]\tcv-test-auc:0.663935666667+0.00275833456193\tcv-train-auc:0.681629+0.00165628258459\n",
      "[110]\tcv-test-auc:0.66455+0.00280028248575\tcv-train-auc:0.68318+0.00162320752421\n",
      "[120]\tcv-test-auc:0.665239666667+0.00269450011855\tcv-train-auc:0.684557666667+0.001670312213\n",
      "[130]\tcv-test-auc:0.665776333333+0.00260604353166\tcv-train-auc:0.685894+0.00163805026378\n",
      "[140]\tcv-test-auc:0.666308+0.00256450086112\tcv-train-auc:0.687384333333+0.00164087320927\n",
      "[150]\tcv-test-auc:0.666810666667+0.00268247899443\tcv-train-auc:0.688733+0.00151595932223\n",
      "[160]\tcv-test-auc:0.667346+0.00277782156854\tcv-train-auc:0.690088+0.00156406649475\n",
      "[170]\tcv-test-auc:0.667747333333+0.00295390231539\tcv-train-auc:0.691313333333+0.00146310362662\n",
      "[180]\tcv-test-auc:0.668151666667+0.00301324966698\tcv-train-auc:0.692594+0.001513917435\n",
      "[190]\tcv-test-auc:0.668542333333+0.00305849705284\tcv-train-auc:0.693862+0.00152830385286\n",
      "[200]\tcv-test-auc:0.668898333333+0.00307197898575\tcv-train-auc:0.695096+0.00145492290747\n",
      "[210]\tcv-test-auc:0.669276333333+0.00313365668544\tcv-train-auc:0.696179333333+0.00142665911213\n",
      "[220]\tcv-test-auc:0.669644333333+0.0031501959022\tcv-train-auc:0.697468666667+0.00145383202453\n",
      "[230]\tcv-test-auc:0.669913+0.00322148444044\tcv-train-auc:0.698536666667+0.00141007336295\n",
      "[240]\tcv-test-auc:0.670183333333+0.00337444418469\tcv-train-auc:0.699601333333+0.00123548919686\n",
      "[250]\tcv-test-auc:0.670396333333+0.00336351020348\tcv-train-auc:0.700545666667+0.00121885583871\n",
      "[260]\tcv-test-auc:0.670606333333+0.00342436897674\tcv-train-auc:0.701492666667+0.00123193894149\n",
      "[270]\tcv-test-auc:0.670853666667+0.00339992120824\tcv-train-auc:0.702421666667+0.00127278626992\n",
      "[280]\tcv-test-auc:0.671084666667+0.00345141143431\tcv-train-auc:0.703439666667+0.00123591297788\n",
      "[290]\tcv-test-auc:0.671192+0.00349970465421\tcv-train-auc:0.704349333333+0.00123539584299\n",
      "[300]\tcv-test-auc:0.671373666667+0.00348473244629\tcv-train-auc:0.705275666667+0.00133632065347\n",
      "[310]\tcv-test-auc:0.671537666667+0.00348384704346\tcv-train-auc:0.706119333333+0.00129868557481\n",
      "[320]\tcv-test-auc:0.671679666667+0.003438286815\tcv-train-auc:0.707001333333+0.00140269130207\n",
      "[330]\tcv-test-auc:0.671871333333+0.00361737255784\tcv-train-auc:0.707887666667+0.00127710723469\n",
      "[340]\tcv-test-auc:0.672111333333+0.00363870492834\tcv-train-auc:0.708760333333+0.00130856163613\n",
      "[350]\tcv-test-auc:0.672231333333+0.00367883499071\tcv-train-auc:0.709621333333+0.00128603689251\n",
      "[360]\tcv-test-auc:0.672314+0.00369027379291\tcv-train-auc:0.710384666667+0.00129178489781\n",
      "[370]\tcv-test-auc:0.672443666667+0.00373351151361\tcv-train-auc:0.711105333333+0.00114743201203\n",
      "[380]\tcv-test-auc:0.672549+0.00375366407661\tcv-train-auc:0.711863+0.0011226281664\n",
      "[390]\tcv-test-auc:0.672709333333+0.00378191215598\tcv-train-auc:0.712689+0.00108829622193\n",
      "[400]\tcv-test-auc:0.672790666667+0.00376121898089\tcv-train-auc:0.713481333333+0.00113984570106\n",
      "[410]\tcv-test-auc:0.672855333333+0.00373786831704\tcv-train-auc:0.714155+0.00113088490425\n",
      "[420]\tcv-test-auc:0.672961666667+0.00375756182769\tcv-train-auc:0.714866666667+0.00110226594895\n",
      "[430]\tcv-test-auc:0.672995+0.00379171131109\tcv-train-auc:0.715545333333+0.00107875864874\n",
      "[440]\tcv-test-auc:0.673065333333+0.00380828100621\tcv-train-auc:0.716315+0.0010060139164\n",
      "[450]\tcv-test-auc:0.673191666667+0.00376366216455\tcv-train-auc:0.717212+0.000970472393562\n",
      "[460]\tcv-test-auc:0.673253333333+0.00374267794797\tcv-train-auc:0.717996333333+0.00101264746526\n",
      "[470]\tcv-test-auc:0.673349+0.00373945958662\tcv-train-auc:0.718655+0.00110419684235\n",
      "[480]\tcv-test-auc:0.673392333333+0.00378287380469\tcv-train-auc:0.719399333333+0.00112593556161\n",
      "[490]\tcv-test-auc:0.673441666667+0.00374833619386\tcv-train-auc:0.720079+0.00115502842678\n",
      "[500]\tcv-test-auc:0.673528+0.00374172268703\tcv-train-auc:0.720917+0.00113086721885\n",
      "[510]\tcv-test-auc:0.673608333333+0.00374660747284\tcv-train-auc:0.721565333333+0.00110984603537\n",
      "[520]\tcv-test-auc:0.673703333333+0.00372950955965\tcv-train-auc:0.722322666667+0.00120868146709\n",
      "[530]\tcv-test-auc:0.673729+0.00378360780209\tcv-train-auc:0.723118333333+0.00122669918435\n",
      "[540]\tcv-test-auc:0.673763+0.00376921804446\tcv-train-auc:0.723799666667+0.00127822176827\n",
      "[550]\tcv-test-auc:0.673793666667+0.00377742366641\tcv-train-auc:0.724476333333+0.00127125196384\n",
      "[560]\tcv-test-auc:0.673874+0.00377503969074\tcv-train-auc:0.725083333333+0.00128523884507\n",
      "[570]\tcv-test-auc:0.673921+0.00375917623955\tcv-train-auc:0.725856333333+0.00139400079707\n",
      "[580]\tcv-test-auc:0.673949+0.00373327175544\tcv-train-auc:0.726434+0.00140802911902\n",
      "[590]\tcv-test-auc:0.673962333333+0.00374943785416\tcv-train-auc:0.727033333333+0.0013691122022\n",
      "[600]\tcv-test-auc:0.673962333333+0.00373353186972\tcv-train-auc:0.727818+0.00132987994446\n",
      "[610]\tcv-test-auc:0.674001333333+0.00378614468233\tcv-train-auc:0.728581666667+0.00120383202963\n",
      "[620]\tcv-test-auc:0.674054+0.00372565242609\tcv-train-auc:0.729201+0.0011869650374\n",
      "[630]\tcv-test-auc:0.674101666667+0.00374442610942\tcv-train-auc:0.729864333333+0.00119049914835\n",
      "[640]\tcv-test-auc:0.674158+0.00381074594622\tcv-train-auc:0.730519666667+0.00111718465598\n",
      "[650]\tcv-test-auc:0.674169666667+0.0037744370294\tcv-train-auc:0.731129333333+0.00106129177054\n",
      "[660]\tcv-test-auc:0.674219333333+0.00374592581643\tcv-train-auc:0.731811666667+0.00110932902643\n",
      "[670]\tcv-test-auc:0.674271666667+0.00373147945042\tcv-train-auc:0.732467666667+0.00097039591004\n",
      "[680]\tcv-test-auc:0.674324666667+0.00369803635581\tcv-train-auc:0.733085333333+0.000986739524337\n",
      "[690]\tcv-test-auc:0.674318+0.00371228348415\tcv-train-auc:0.733705+0.000896538156838\n",
      "[700]\tcv-test-auc:0.674371333333+0.00371795287162\tcv-train-auc:0.734395+0.000951968837025\n",
      "[710]\tcv-test-auc:0.674381+0.00370551381952\tcv-train-auc:0.735140666667+0.000960747047296\n",
      "[720]\tcv-test-auc:0.674405+0.0036818447369\tcv-train-auc:0.73574+0.000989301100104\n",
      "[730]\tcv-test-auc:0.674431333333+0.00372319910233\tcv-train-auc:0.736356+0.000998240785916\n",
      "[740]\tcv-test-auc:0.674416+0.00370666076139\tcv-train-auc:0.736919333333+0.00108038336817\n",
      "[750]\tcv-test-auc:0.674397+0.00367102637782\tcv-train-auc:0.73752+0.00100591981125\n",
      "[760]\tcv-test-auc:0.674424+0.00367980769425\tcv-train-auc:0.737984333333+0.00105798592723\n",
      "[770]\tcv-test-auc:0.674428+0.00365806861609\tcv-train-auc:0.738627333333+0.000943152986294\n",
      "[780]\tcv-test-auc:0.67448+0.00369474663092\tcv-train-auc:0.739195333333+0.000946051560728\n",
      "[790]\tcv-test-auc:0.674472666667+0.00368035472324\tcv-train-auc:0.739764666667+0.000905404636367\n",
      "[800]\tcv-test-auc:0.674445333333+0.00371932658182\tcv-train-auc:0.740317333333+0.000906128884627\n",
      "[810]\tcv-test-auc:0.674487333333+0.00368678037799\tcv-train-auc:0.740884333333+0.000942267242111\n",
      "[820]\tcv-test-auc:0.674515+0.00365878750408\tcv-train-auc:0.741475333333+0.000992854582616\n",
      "[830]\tcv-test-auc:0.674554333333+0.00367990664133\tcv-train-auc:0.742181+0.00102529605481\n",
      "[840]\tcv-test-auc:0.674564333333+0.00367697568964\tcv-train-auc:0.742698333333+0.000989971492294\n",
      "[850]\tcv-test-auc:0.674608+0.00367142996665\tcv-train-auc:0.743313333333+0.00101789728799\n",
      "[860]\tcv-test-auc:0.674602+0.00371703295654\tcv-train-auc:0.743855+0.000987556918191\n",
      "[870]\tcv-test-auc:0.674589+0.00372627884088\tcv-train-auc:0.744462333333+0.000981690492071\n",
      "[880]\tcv-test-auc:0.674606+0.00371069948482\tcv-train-auc:0.744964666667+0.00107560133052\n",
      "[890]\tcv-test-auc:0.674620666667+0.00374667010676\tcv-train-auc:0.745531333333+0.00109479749523\n"
     ]
    },
    {
     "name": "stderr",
     "output_type": "stream",
     "text": [
      "[900]\tcv-test-auc:0.674616666667+0.00373436298301\tcv-train-auc:0.746143+0.000991709971043\n",
      "[910]\tcv-test-auc:0.674647333333+0.00375146205573\tcv-train-auc:0.746824333333+0.000951458295927\n",
      "[920]\tcv-test-auc:0.674706666667+0.00376369077133\tcv-train-auc:0.747345333333+0.00103476964694\n",
      "[930]\tcv-test-auc:0.674764+0.00375000382222\tcv-train-auc:0.747974333333+0.00106620021051\n",
      "[940]\tcv-test-auc:0.674756333333+0.00374715904238\tcv-train-auc:0.748472+0.00105476158444\n",
      "[950]\tcv-test-auc:0.674779+0.00374114697208\tcv-train-auc:0.749005333333+0.000945167474872\n",
      "[960]\tcv-test-auc:0.674809666667+0.00374115760457\tcv-train-auc:0.749514+0.00091644567033\n",
      "[970]\tcv-test-auc:0.674820666667+0.00374217702533\tcv-train-auc:0.750035666667+0.000882870067199\n",
      "[980]\tcv-test-auc:0.674849+0.00373675429573\tcv-train-auc:0.750574+0.000874853511547\n",
      "[990]\tcv-test-auc:0.674858333333+0.00370442351191\tcv-train-auc:0.751067666667+0.000850762141978\n",
      "[1000]\tcv-test-auc:0.674865+0.00368339580641\tcv-train-auc:0.751606666667+0.000754514118858\n",
      "[1010]\tcv-test-auc:0.674853666667+0.00368373807731\tcv-train-auc:0.752166666667+0.000787854611517\n",
      "[1020]\tcv-test-auc:0.674892666667+0.0036755244826\tcv-train-auc:0.752658333333+0.00086103516511\n",
      "[1030]\tcv-test-auc:0.674909+0.00362744234965\tcv-train-auc:0.753209+0.000903744801737\n",
      "[1040]\tcv-test-auc:0.674931666667+0.00367940215554\tcv-train-auc:0.753739+0.000855970793894\n",
      "[1050]\tcv-test-auc:0.674941+0.00365726482498\tcv-train-auc:0.754215666667+0.000832964718474\n",
      "[1060]\tcv-test-auc:0.674932+0.00369721525836\tcv-train-auc:0.754710333333+0.000685614242041\n",
      "[1070]\tcv-test-auc:0.674936+0.00371605552524\tcv-train-auc:0.755170333333+0.00074647810119\n",
      "[1080]\tcv-test-auc:0.674962333333+0.0036937493448\tcv-train-auc:0.755685666667+0.000796356006375\n",
      "[1090]\tcv-test-auc:0.674975+0.00370085296475\tcv-train-auc:0.756207333333+0.00077217110942\n",
      "[1100]\tcv-test-auc:0.674950333333+0.00369153755982\tcv-train-auc:0.756681+0.000765623057821\n",
      "[1110]\tcv-test-auc:0.674974666667+0.00370887739829\tcv-train-auc:0.757191+0.000777668738388\n",
      "[1120]\tcv-test-auc:0.674976333333+0.00374972908651\tcv-train-auc:0.757718+0.000748297178043\n",
      "[1130]\tcv-test-auc:0.674941333333+0.00375615622087\tcv-train-auc:0.758232333333+0.000761873276135\n",
      "[1140]\tcv-test-auc:0.674948+0.00375563683015\tcv-train-auc:0.758753666667+0.00073178973908\n",
      "[1150]\tcv-test-auc:0.674939333333+0.00374787284855\tcv-train-auc:0.759266666667+0.000755464684078\n",
      "[1160]\tcv-test-auc:0.674959+0.00375658248944\tcv-train-auc:0.759727666667+0.000800045137616\n",
      "[1170]\tcv-test-auc:0.674963+0.00378311679263\tcv-train-auc:0.760222666667+0.000759066239241\n",
      "[1180]\tcv-test-auc:0.674984333333+0.00376554788695\tcv-train-auc:0.760628+0.000760101309037\n",
      "[1190]\tcv-test-auc:0.674966333333+0.00377271231639\tcv-train-auc:0.761107666667+0.000789611859643\n",
      "[1200]\tcv-test-auc:0.674978333333+0.00374241288773\tcv-train-auc:0.761629+0.000762107603951\n",
      "[1210]\tcv-test-auc:0.675008+0.00372813957178\tcv-train-auc:0.762142+0.000697605905938\n",
      "[1220]\tcv-test-auc:0.675005+0.00369704936402\tcv-train-auc:0.762592666667+0.000637800560956\n",
      "[1230]\tcv-test-auc:0.675040666667+0.00371428057936\tcv-train-auc:0.763081+0.00065103968133\n",
      "[1240]\tcv-test-auc:0.675024333333+0.00370216894386\tcv-train-auc:0.763486333333+0.000638219049822\n",
      "[1250]\tcv-test-auc:0.675009666667+0.00368317529073\tcv-train-auc:0.763934333333+0.000586283397532\n",
      "[1260]\tcv-test-auc:0.674987+0.00369357613522\tcv-train-auc:0.764353+0.000651317127059\n",
      "[1270]\tcv-test-auc:0.674972+0.00369584117624\tcv-train-auc:0.764774666667+0.00067219755694\n",
      "[1280]\tcv-test-auc:0.674962333333+0.00366153031153\tcv-train-auc:0.765245666667+0.000653202027622\n",
      "[1290]\tcv-test-auc:0.674974333333+0.00361697611579\tcv-train-auc:0.765689+0.0005494949196\n",
      "[1300]\tcv-test-auc:0.675019333333+0.0036474082427\tcv-train-auc:0.766145666667+0.000563638378947\n",
      "[1310]\tcv-test-auc:0.675001+0.00367044765662\tcv-train-auc:0.766556333333+0.000515444360614\n",
      "[1320]\tcv-test-auc:0.67502+0.00368669101861\tcv-train-auc:0.766978+0.00044763601285\n",
      "[1330]\tcv-test-auc:0.675031333333+0.00363758036185\tcv-train-auc:0.767468666667+0.000453674136603\n",
      "[1340]\tcv-test-auc:0.675035+0.00365558814237\tcv-train-auc:0.767852333333+0.000409368890964\n",
      "[1350]\tcv-test-auc:0.675045333333+0.00364548097726\tcv-train-auc:0.76822+0.000491237213574\n",
      "[1360]\tcv-test-auc:0.675054333333+0.00364191060968\tcv-train-auc:0.768661333333+0.000532572582429\n",
      "[1370]\tcv-test-auc:0.674998666667+0.00364689798169\tcv-train-auc:0.769075333333+0.000568076481549\n",
      "[1380]\tcv-test-auc:0.674959+0.00363223081132\tcv-train-auc:0.769558333333+0.000531585260225\n",
      "[1390]\tcv-test-auc:0.674973333333+0.00361686976388\tcv-train-auc:0.769975333333+0.000572629218799\n",
      "[1400]\tcv-test-auc:0.674991666667+0.00360751376374\tcv-train-auc:0.770399666667+0.000575862444995\n",
      "[1410]\tcv-test-auc:0.674999666667+0.0036150796518\tcv-train-auc:0.770838333333+0.000621622786655\n",
      "[1420]\tcv-test-auc:0.675014+0.00361654310081\tcv-train-auc:0.771302333333+0.000590740965982\n",
      "[1430]\tcv-test-auc:0.675060666667+0.00361795064766\tcv-train-auc:0.771708666667+0.000575163937983\n",
      "[1440]\tcv-test-auc:0.675044333333+0.00364688957271\tcv-train-auc:0.772058666667+0.000490840322531\n",
      "[1450]\tcv-test-auc:0.675038+0.00363865277266\tcv-train-auc:0.772512+0.000569484562272\n",
      "[1460]\tcv-test-auc:0.675032333333+0.00360909317635\tcv-train-auc:0.772888666667+0.000596324482886\n",
      "[1470]\tcv-test-auc:0.67506+0.00358800483091\tcv-train-auc:0.773285333333+0.000637253133029\n",
      "[1480]\tcv-test-auc:0.675040666667+0.00358422547034\tcv-train-auc:0.773628+0.000663394804522\n",
      "[1490]\tcv-test-auc:0.675038+0.00356818730824\tcv-train-auc:0.774055+0.0007083741949\n",
      "[1500]\tcv-test-auc:0.675026666667+0.00356530179492\tcv-train-auc:0.774511666667+0.000697979146457\n",
      "[1510]\tcv-test-auc:0.675018666667+0.00357838253343\tcv-train-auc:0.774912666667+0.000754503957725\n",
      "[1520]\tcv-test-auc:0.675025+0.00355971806\tcv-train-auc:0.775394666667+0.000741977687595\n",
      "[1530]\tcv-test-auc:0.675016666667+0.00357118004151\tcv-train-auc:0.775736+0.000727598790543\n",
      "Stopping. Best iteration:\n",
      "[1431] cv-mean:0.675066333333\tcv-std:0.00361356124742\n"
     ]
    }
   ],
   "source": [
    "iterations = xgb_cv(train_feature, train_label, params, config['rounds'])"
   ]
  },
  {
   "cell_type": "code",
   "execution_count": 170,
   "metadata": {
    "collapsed": true
   },
   "outputs": [],
   "source": [
    "import winsound\n",
    "winsound.Beep(600,1000)"
   ]
  },
  {
   "cell_type": "code",
   "execution_count": null,
   "metadata": {
    "scrolled": true
   },
   "outputs": [],
   "source": [
    "model, pred = xgb_predict(train_feature, train_label, test_feature, iterations, params)"
   ]
  },
  {
   "cell_type": "code",
   "execution_count": null,
   "metadata": {
    "collapsed": true
   },
   "outputs": [],
   "source": [
    "importance = pd.DataFrame(model.get_fscore().items(), columns=['feature','importance']).sort_values('importance', ascending=False)\n",
    "importance.to_csv('../data/output/feat_imp/importance.csv', index = False)"
   ]
  },
  {
   "cell_type": "code",
   "execution_count": null,
   "metadata": {
    "collapsed": true
   },
   "outputs": [],
   "source": [
    "res = store_result(test_index, pred, 0.5, '1122-xgb-entbase_only.csv')"
   ]
  }
 ],
 "metadata": {
  "kernelspec": {
   "display_name": "Python [default]",
   "language": "python",
   "name": "python2"
  },
  "language_info": {
   "codemirror_mode": {
    "name": "ipython",
    "version": 2
   },
   "file_extension": ".py",
   "mimetype": "text/x-python",
   "name": "python",
   "nbconvert_exporter": "python",
   "pygments_lexer": "ipython2",
   "version": "2.7.13"
  }
 },
 "nbformat": 4,
 "nbformat_minor": 2
}
