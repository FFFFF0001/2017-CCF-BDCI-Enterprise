{
 "cells": [
  {
   "cell_type": "code",
   "execution_count": 144,
   "metadata": {},
   "outputs": [],
   "source": [
    "from __future__ import division\n",
    "import pandas as pd\n",
    "import numpy as np\n",
    "import xgboost as xgb\n",
    "from sklearn.linear_model import LogisticRegression\n",
    "from sklearn.cross_validation import cross_val_score"
   ]
  },
  {
   "cell_type": "code",
   "execution_count": 145,
   "metadata": {},
   "outputs": [],
   "source": [
    "train = pd.read_csv('../data/input/train.csv')\n",
    "enbase = pd.read_csv('../data/input/1entbase.csv')\n",
    "alter = pd.read_csv('../data/input/2alter.csv')\n",
    "branch = pd.read_csv('../data/input/3branch.csv')\n",
    "invest = pd.read_csv('../data/input/4invest.csv')\n",
    "right = pd.read_csv('../data/input/5right.csv')\n",
    "project = pd.read_csv('../data/input/6project.csv')\n",
    "lawsuit = pd.read_csv('../data/input/7lawsuit.csv')\n",
    "breakfaith = pd.read_csv('../data/input/8breakfaith.csv')\n",
    "recruit = pd.read_csv('../data/input/9recruit.csv')\n",
    "qualification = pd.read_csv('../data/input/10qualification.csv')\n",
    "test = pd.read_csv('../data/input/evaluation_public.csv')"
   ]
  },
  {
   "cell_type": "code",
   "execution_count": 146,
   "metadata": {
    "collapsed": true,
    "scrolled": true
   },
   "outputs": [],
   "source": [
    "enbase = enbase.fillna(value={'ZCZB': 0, 'MPNUM': 0, 'INUM': 0, 'ENUM': 0, 'FINZB': 0, 'FSTINUM': 0, 'TZINUM': 0})  # 未处理 HY；ZCZB 为 0 表示缺失或错误"
   ]
  },
  {
   "cell_type": "code",
   "execution_count": 147,
   "metadata": {},
   "outputs": [
    {
     "data": {
      "text/plain": [
       "(436798, 12)"
      ]
     },
     "execution_count": 147,
     "metadata": {},
     "output_type": "execute_result"
    }
   ],
   "source": [
    "enbase.shape"
   ]
  },
  {
   "cell_type": "code",
   "execution_count": 148,
   "metadata": {
    "collapsed": true
   },
   "outputs": [],
   "source": [
    "def translate_date(date):\n",
    "    year = int(date[:4])\n",
    "    month = int(date[-2:])\n",
    "    return (year - 2010) * 12 + month"
   ]
  },
  {
   "cell_type": "code",
   "execution_count": 149,
   "metadata": {
    "collapsed": true
   },
   "outputs": [],
   "source": [
    "def get_alter_feature(df):\n",
    "    df = df.copy()\n",
    "\n",
    "    alt_no = df.groupby(['EID', 'ALTERNO']).size().reset_index()\n",
    "    alt_no = alt_no.groupby('EID')[0].agg([sum, len]).reset_index()\n",
    "    alt_no.columns = ['EID', 'alt_count', 'alt_types_count']\n",
    "\n",
    "    alt_no_oh = df.groupby(['EID', 'ALTERNO']).size().unstack().reset_index()\n",
    "    alt_no_oh.columns = [i if i == 'EID' else 'alt_' + i for i in alt_no_oh.columns]\n",
    "\n",
    "    df['date'] = df['ALTDATE'].apply(translate_date)\n",
    "    date = df.groupby('EID')['date'].agg([min, max, np.ptp, np.std]).reset_index()\n",
    "    date.columns = ['EID', 'alt_date_min', 'alt_date_max', 'alt_date_ptp', 'alt_date_std']\n",
    "\n",
    "    df['altbe'] = df['ALTBE'].str.extract('(\\d+\\.?\\d*)').astype(float)\n",
    "    df['altaf'] = df['ALTAF'].str.extract('(\\d+\\.?\\d*)').astype(float)\n",
    "    alt_be_af = df.groupby('EID')['altbe', 'altaf'].agg([min, max, np.mean]).reset_index()\n",
    "    alt_be_af.columns = ['EID', 'alt_be_min', 'alt_be_max', 'alt_be_mean', 'alt_af_min', 'alt_af_max', 'alt_af_mean']\n",
    "\n",
    "    mydf = pd.merge(alt_no, alt_no_oh, how='left', on='EID')\n",
    "    mydf = pd.merge(mydf, date, how='left', on='EID')\n",
    "    mydf = pd.merge(mydf, alt_be_af, how='left', on='EID')\n",
    "\n",
    "    return mydf"
   ]
  },
  {
   "cell_type": "code",
   "execution_count": 150,
   "metadata": {
    "collapsed": true
   },
   "outputs": [],
   "source": [
    "def get_right_feature(df):\n",
    "    df = df.copy()\n",
    "    \n",
    "    rig_type = df.groupby(['EID', 'RIGHTTYPE']).size().reset_index()\n",
    "    rig_type = rig_type.groupby('EID')[0].agg([sum, len]).reset_index()\n",
    "    rig_type.columns = ['EID', 'rig_count', 'rig_types_count']\n",
    "    \n",
    "    rig_type_oh_rate = df.groupby(['EID', 'RIGHTTYPE']).size().unstack().reset_index()\n",
    "    rig_type_oh_rate.iloc[:, 1:] = rig_type_oh_rate.iloc[:, 1:].div(rig_type['rig_count'], axis='index')\n",
    "    rig_type_oh_rate.columns = [i if i == 'EID' else 'rig_rate_' + str(i) for i in rig_type_oh_rate.columns]\n",
    "    \n",
    "    df['ask_month'] = (pd.to_datetime(df['ASKDATE']).dt.to_period(\"M\") - (pd.to_datetime('2010-01-01').to_period(\"M\"))).fillna(-999).astype(int).replace(-999, np.NaN)\n",
    "    ask_date = df.groupby('EID')['ask_month'].agg([max, min, np.ptp, np.std]).reset_index()\n",
    "    ask_date.columns = ['EID', 'rig_askdate_max', 'rig_askdate_min', 'rig_askdate_ptp', 'rig_askdate_std']\n",
    "\n",
    "    df['get_month'] = (pd.to_datetime(df['FBDATE']).dt.to_period(\"M\") - (pd.to_datetime('2010-01-01').to_period(\"M\"))).fillna(-999).astype(int).replace(-999, np.NaN)\n",
    "    get_date = df.groupby('EID')['get_month'].agg([max, min, np.ptp, np.std]).reset_index()\n",
    "    get_date.columns = ['EID', 'rig_getdate_max', 'rig_getdate_min', 'rig_getdate_ptp', 'rig_getdate_std']\n",
    "    \n",
    "    # bad\n",
    "    unget = df[df.FBDATE.isnull()]\n",
    "    unget = unget.groupby('EID').size().reset_index()\n",
    "    unget.columns = ['EID', 'rig_unget_num']\n",
    "    \n",
    "    right_1year = df[df['ASKDATE'] >= '2015-01'].groupby('EID')['ASKDATE'].count().reset_index()\n",
    "    right_1year.columns = ['EID', 'ask_num(1year)']\n",
    "    right_2year = df[df['ASKDATE'] >= '2014-01'].groupby('EID')['ASKDATE'].count().reset_index()\n",
    "    right_2year.columns = ['EID', 'ask_num(2year)']\n",
    "    right_5year = df[df['ASKDATE'] >= '2010-01'].groupby('EID')['ASKDATE'].count().reset_index()\n",
    "    right_5year.columns = ['EID', 'ask_num(5year)']\n",
    "    right_end_1year = df[df['FBDATE'] >= '2015-01'].groupby('EID')['FBDATE'].count().reset_index()\n",
    "    right_end_1year.columns = ['EID', 'get_num(1year)']\n",
    "    right_end_2year = df[df['FBDATE'] >= '2014-01'].groupby('EID')['FBDATE'].count().reset_index()\n",
    "    right_end_2year.columns = ['EID', 'get_num(2year)']\n",
    "    right_end_5year = df[df['FBDATE'] >= '2010-01'].groupby('EID')['FBDATE'].count().reset_index()\n",
    "    right_end_5year.columns = ['EID', 'get_num(5year)']\n",
    "    \n",
    "    mydf = pd.merge(rig_type, rig_type_oh_rate, how='left', on='EID')\n",
    "    mydf = pd.merge(mydf, ask_date, how='left', on='EID')\n",
    "    mydf = pd.merge(mydf, get_date, how='left', on='EID')\n",
    "    mydf = pd.merge(mydf, unget, how='left', on='EID')\n",
    "    mydf = pd.merge(mydf, right_1year, how='left', on='EID')\n",
    "    mydf = pd.merge(mydf, right_2year, how='left', on='EID')\n",
    "    mydf = pd.merge(mydf, right_5year, how='left', on='EID')\n",
    "    mydf = pd.merge(mydf, right_end_1year, how='left', on='EID')\n",
    "    mydf = pd.merge(mydf, right_end_2year, how='left', on='EID')\n",
    "    mydf = pd.merge(mydf, right_end_5year, how='left', on='EID')\n",
    "    \n",
    "    # bad\n",
    "    mydf['ask_rate(1year)'] = mydf['ask_num(1year)'] / mydf['rig_count']\n",
    "    mydf['ask_rate(2year)'] = mydf['ask_num(2year)'] / mydf['rig_count']\n",
    "    mydf['ask_rate(5year)'] = mydf['ask_num(5year)'] / mydf['rig_count']\n",
    "    mydf['get_rate(1year)'] = mydf['get_num(1year)'] / mydf['rig_count']\n",
    "    mydf['get_rate(2year)'] = mydf['get_num(2year)'] / mydf['rig_count']\n",
    "    mydf['get_rate(5year)'] = mydf['get_num(5year)'] / mydf['rig_count']\n",
    "\n",
    "    return mydf"
   ]
  },
  {
   "cell_type": "code",
   "execution_count": 151,
   "metadata": {},
   "outputs": [],
   "source": [
    "def get_recruit_feature(df):\n",
    "    df = df.copy()\n",
    "    \n",
    "    rec_wz = df.groupby(['EID', 'WZCODE']).size().reset_index()\n",
    "    rec_wz = rec_wz.groupby('EID')[0].agg([sum, len]).reset_index()\n",
    "    rec_wz.columns = ['EID', 'rec_wz_count', 'rec_wz_types_count']\n",
    "    \n",
    "    # bad\n",
    "    rec_wz_oh = df.groupby(['EID', 'WZCODE']).size().unstack().reset_index()\n",
    "    rec_wz_oh.columns = [i if i == 'EID' else 'rec_wz_' + i for i in rec_wz_oh.columns]\n",
    "    \n",
    "    # bad\n",
    "    rec_pos = df.groupby(['EID', 'POSCODE']).size().reset_index()\n",
    "    rec_pos = rec_pos.groupby('EID')[0].agg([sum, len]).reset_index()\n",
    "    rec_pos.columns = ['EID', 'rec_pos_count', 'rec_pos_types_count']\n",
    "    \n",
    "    df['recdate'] = (pd.to_datetime(df['RECDATE']).dt.to_period(\"M\") - (pd.to_datetime('2010-01-01').to_period(\"M\"))).fillna(-999).astype(int).replace(-999, np.NaN)\n",
    "    rec_date = df.groupby('EID')['recdate'].agg([max, min, np.ptp, np.std]).reset_index()\n",
    "    rec_date.columns = ['EID', 'rec_date_max', 'rec_date_min', 'rec_date_ptp', 'rec_date_std']\n",
    "    \n",
    "    # bad\n",
    "    df['pnum'] = df['PNUM'].str.extract('(\\d+)').fillna(1).astype(int)  # 若干=1\n",
    "    rec_num = df.groupby('EID')['pnum'].agg([sum, max, min, np.ptp, np.std]).reset_index()\n",
    "    rec_num.columns = ['EID' if i == 'EID' else 'rec_num_' + i for i in rec_num.columns]\n",
    "    \n",
    "    mydf = pd.merge(rec_wz, rec_wz_oh, how='left', on='EID')\n",
    "    mydf = pd.merge(mydf, rec_pos, how='left', on='EID')\n",
    "    mydf = pd.merge(mydf, rec_date, how='left', on='EID')\n",
    "    mydf = pd.merge(mydf, rec_num, how='left', on='EID')\n",
    "\n",
    "    return mydf"
   ]
  },
  {
   "cell_type": "code",
   "execution_count": null,
   "metadata": {
    "collapsed": true
   },
   "outputs": [],
   "source": []
  },
  {
   "cell_type": "code",
   "execution_count": 183,
   "metadata": {},
   "outputs": [],
   "source": [
    "df = branch.copy()\n",
    "\n",
    "bra_num = df.groupby('EID')['TYPECODE'].size().reset_index()\n",
    "bra_num.columns = ['EID', 'bra_count']\n",
    "\n",
    "bra_home = df.groupby(['EID', 'IFHOME']).size().unstack().reset_index()\n",
    "bra_home.columns = ['EID', 'bra_nothome', 'bra_home']\n",
    "\n",
    "bra_year = df.groupby('EID')['B_REYEAR'].agg([min, max, np.ptp, np.std]).reset_index()\n",
    "bra_year.columns = [i if i == 'EID' else 'bra_year_' + i for i in bra_year.columns]"
   ]
  },
  {
   "cell_type": "code",
   "execution_count": null,
   "metadata": {
    "collapsed": true
   },
   "outputs": [],
   "source": []
  },
  {
   "cell_type": "code",
   "execution_count": 185,
   "metadata": {
    "collapsed": true
   },
   "outputs": [],
   "source": [
    "def get_branch_feature(df):\n",
    "    df = df.copy()\n",
    "    \n",
    "    bra_num = df.groupby('EID')['TYPECODE'].size().reset_index()\n",
    "    bra_num.columns = ['EID', 'bra_count']\n",
    "    \n",
    "    # bad\n",
    "    bra_home = df.groupby(['EID', 'IFHOME']).size().unstack().reset_index()\n",
    "    bra_home.columns = ['EID', 'bra_nothome', 'bra_home']\n",
    "    \n",
    "    bra_year = df.groupby('EID')['B_REYEAR'].agg([min, max, np.ptp, np.std]).reset_index()\n",
    "    bra_year.columns = [i if i == 'EID' else 'bra_year_' + i for i in bra_year.columns]\n",
    "    \n",
    "    mydf = pd.merge(bra_num, bra_home, how='left', on='EID')\n",
    "    mydf = pd.merge(mydf, bra_year, how='left', on='EID')\n",
    "\n",
    "    return mydf"
   ]
  },
  {
   "cell_type": "code",
   "execution_count": null,
   "metadata": {
    "collapsed": true
   },
   "outputs": [],
   "source": []
  },
  {
   "cell_type": "code",
   "execution_count": 154,
   "metadata": {},
   "outputs": [
    {
     "name": "stderr",
     "output_type": "stream",
     "text": [
      "F:\\ProgramData\\Anaconda2\\lib\\site-packages\\ipykernel_launcher.py:15: FutureWarning: currently extract(expand=None) means expand=False (return Index/Series/DataFrame) but in a future version of pandas this will be changed to expand=True (return DataFrame)\n",
      "  from ipykernel import kernelapp as app\n",
      "F:\\ProgramData\\Anaconda2\\lib\\site-packages\\ipykernel_launcher.py:16: FutureWarning: currently extract(expand=None) means expand=False (return Index/Series/DataFrame) but in a future version of pandas this will be changed to expand=True (return DataFrame)\n",
      "  app.launch_new_instance()\n"
     ]
    }
   ],
   "source": [
    "alter_feat = get_alter_feature(alter)"
   ]
  },
  {
   "cell_type": "code",
   "execution_count": 155,
   "metadata": {
    "collapsed": true
   },
   "outputs": [],
   "source": [
    "right_feature = get_right_feature(right)"
   ]
  },
  {
   "cell_type": "code",
   "execution_count": 156,
   "metadata": {},
   "outputs": [
    {
     "name": "stderr",
     "output_type": "stream",
     "text": [
      "F:\\ProgramData\\Anaconda2\\lib\\site-packages\\ipykernel_launcher.py:22: FutureWarning: currently extract(expand=None) means expand=False (return Index/Series/DataFrame) but in a future version of pandas this will be changed to expand=True (return DataFrame)\n"
     ]
    }
   ],
   "source": [
    "recruit_feat = get_recruit_feature(recruit)"
   ]
  },
  {
   "cell_type": "code",
   "execution_count": 186,
   "metadata": {},
   "outputs": [],
   "source": [
    "branch_feat = get_branch_feature(branch)"
   ]
  },
  {
   "cell_type": "code",
   "execution_count": null,
   "metadata": {
    "collapsed": true
   },
   "outputs": [],
   "source": []
  },
  {
   "cell_type": "code",
   "execution_count": 187,
   "metadata": {
    "collapsed": true
   },
   "outputs": [],
   "source": [
    "dataset = pd.merge(enbase, alter_feat, on='EID', how='left')\n",
    "dataset = pd.merge(dataset, right_feature, on='EID', how='left')\n",
    "dataset = pd.merge(dataset, recruit_feat, on='EID', how='left')\n",
    "dataset = pd.merge(dataset, branch_feat, on='EID', how='left')"
   ]
  },
  {
   "cell_type": "code",
   "execution_count": 188,
   "metadata": {
    "collapsed": true
   },
   "outputs": [],
   "source": [
    "trainset = pd.merge(train, dataset, on='EID', how='left')\n",
    "testset = pd.merge(test, dataset, on='EID', how='left')"
   ]
  },
  {
   "cell_type": "code",
   "execution_count": 189,
   "metadata": {},
   "outputs": [
    {
     "name": "stderr",
     "output_type": "stream",
     "text": [
      "F:\\ProgramData\\Anaconda2\\lib\\site-packages\\ipykernel_launcher.py:2: FutureWarning: currently extract(expand=None) means expand=False (return Index/Series/DataFrame) but in a future version of pandas this will be changed to expand=True (return DataFrame)\n",
      "  \n",
      "F:\\ProgramData\\Anaconda2\\lib\\site-packages\\ipykernel_launcher.py:3: FutureWarning: currently extract(expand=None) means expand=False (return Index/Series/DataFrame) but in a future version of pandas this will be changed to expand=True (return DataFrame)\n",
      "  This is separate from the ipykernel package so we can avoid doing imports until\n"
     ]
    }
   ],
   "source": [
    "# EID 前面的字母代表不同省份，已提供了 PROV 列，因此字母是冗余信息，直接舍弃\n",
    "trainset['EID'] = trainset['EID'].str.extract('(\\d+)').astype(int)\n",
    "testset['EID'] = testset['EID'].str.extract('(\\d+)').astype(int)"
   ]
  },
  {
   "cell_type": "code",
   "execution_count": 190,
   "metadata": {},
   "outputs": [
    {
     "name": "stdout",
     "output_type": "stream",
     "text": [
      "(218264, 89) (218264L,) (218247, 89)\n"
     ]
    }
   ],
   "source": [
    "train_feature = trainset.drop(['TARGET', 'ENDDATE'], axis=1)\n",
    "train_label = trainset.TARGET.values\n",
    "test_feature = testset\n",
    "test_index = testset.EID.values\n",
    "print train_feature.shape, train_label.shape, test_feature.shape"
   ]
  },
  {
   "cell_type": "code",
   "execution_count": 191,
   "metadata": {
    "collapsed": true
   },
   "outputs": [],
   "source": [
    "config = {\n",
    "    'rounds': 10000,\n",
    "    'folds': 3\n",
    "}\n",
    "\n",
    "params = {\n",
    "    'booster': 'gbtree',\n",
    "    'objective': 'binary:logistic',\n",
    "#     'objective': 'rank:pairwise',\n",
    "    'stratified': True,\n",
    "    'scale_pos_weights ': 0,\n",
    "    'max_depth': 6,\n",
    "    'min_child_weight': 1,\n",
    "    'gamma': 1,\n",
    "    'subsample': 0.7,\n",
    "    'colsample_bytree': 0.7,\n",
    "    'lambda': 1,\n",
    "\n",
    "    'eta': 0.02,\n",
    "    'seed': 20,\n",
    "    'silent': 1,\n",
    "    'eval_metric': 'auc'\n",
    "}"
   ]
  },
  {
   "cell_type": "code",
   "execution_count": 192,
   "metadata": {
    "collapsed": true
   },
   "outputs": [],
   "source": [
    "def xgb_cv(train_feature, train_label, params, rounds):\n",
    "    print train_feature.columns\n",
    "    params['scale_pos_weights '] = float(len(train_label[train_label == 0])) / len(train_label[train_label == 1])\n",
    "    dtrain = xgb.DMatrix(train_feature, label=train_label)\n",
    "    num_round = rounds\n",
    "    print 'run cv: ' + 'round: ' + str(rounds)\n",
    "    res = xgb.cv(params, dtrain, num_round, verbose_eval=10, early_stopping_rounds=100)\n",
    "    return len(res)\n",
    "\n",
    "\n",
    "def xgb_predict(train_feature, train_label, test_feature, rounds, params):\n",
    "    params['scale_pos_weights '] = float(len(train_label[train_label == 0])) / len(train_label[train_label == 1])\n",
    "    dtrain = xgb.DMatrix(train_feature, label=train_label)\n",
    "    dtest = xgb.DMatrix(test_feature, label=np.zeros(test_feature.shape[0]))\n",
    "    watchlist = [(dtrain, 'train')]\n",
    "    num_round = rounds\n",
    "    model = xgb.train(params, dtrain, num_round, watchlist, verbose_eval=50)\n",
    "    predict = model.predict(dtest)\n",
    "    return model, predict\n",
    "\n",
    "\n",
    "def store_result(test_index, pred, threshold, name):\n",
    "    result = pd.DataFrame({'EID': test_index, 'FORTARGET': 0, 'PROB': pred})\n",
    "    mask = result['PROB'] >= threshold\n",
    "    result.at[mask, 'FORTARGET'] = 1\n",
    "    # result['PROB'] = result['PROB'].apply(lambda x: round(x, 4))\n",
    "    result.to_csv('../data/output/sub/' + name + '.csv', index=0)\n",
    "    return result"
   ]
  },
  {
   "cell_type": "code",
   "execution_count": 193,
   "metadata": {
    "scrolled": true
   },
   "outputs": [
    {
     "name": "stdout",
     "output_type": "stream",
     "text": [
      "Index([u'EID', u'PROV', u'RGYEAR', u'HY', u'ZCZB', u'ETYPE', u'MPNUM', u'INUM',\n",
      "       u'ENUM', u'FINZB', u'FSTINUM', u'TZINUM', u'alt_count',\n",
      "       u'alt_types_count', u'alt_01', u'alt_02', u'alt_03', u'alt_04',\n",
      "       u'alt_05', u'alt_10', u'alt_12', u'alt_13', u'alt_14', u'alt_27',\n",
      "       u'alt_99', u'alt_A_015', u'alt_date_min', u'alt_date_max',\n",
      "       u'alt_date_ptp', u'alt_date_std', u'alt_be_min', u'alt_be_max',\n",
      "       u'alt_be_mean', u'alt_af_min', u'alt_af_max', u'alt_af_mean',\n",
      "       u'rig_count', u'rig_types_count', u'rig_rate_11', u'rig_rate_12',\n",
      "       u'rig_rate_20', u'rig_rate_30', u'rig_rate_40', u'rig_rate_50',\n",
      "       u'rig_rate_60', u'rig_askdate_max', u'rig_askdate_min',\n",
      "       u'rig_askdate_ptp', u'rig_askdate_std', u'rig_getdate_max',\n",
      "       u'rig_getdate_min', u'rig_getdate_ptp', u'rig_getdate_std',\n",
      "       u'rig_unget_num', u'ask_num(1year)', u'ask_num(2year)',\n",
      "       u'ask_num(5year)', u'get_num(1year)', u'get_num(2year)',\n",
      "       u'get_num(5year)', u'ask_rate(1year)', u'ask_rate(2year)',\n",
      "       u'ask_rate(5year)', u'get_rate(1year)', u'get_rate(2year)',\n",
      "       u'get_rate(5year)', u'rec_wz_count', u'rec_wz_types_count',\n",
      "       u'rec_wz_zp01', u'rec_wz_zp02', u'rec_wz_zp03', u'rec_pos_count',\n",
      "       u'rec_pos_types_count', u'rec_date_max', u'rec_date_min',\n",
      "       u'rec_date_ptp', u'rec_date_std', u'rec_num_sum', u'rec_num_max',\n",
      "       u'rec_num_min', u'rec_num_ptp', u'rec_num_std', u'bra_count',\n",
      "       u'bra_nothome', u'bra_home', u'bra_year_min', u'bra_year_max',\n",
      "       u'bra_year_ptp', u'bra_year_std'],\n",
      "      dtype='object')\n",
      "run cv: round: 10000\n"
     ]
    },
    {
     "name": "stderr",
     "output_type": "stream",
     "text": [
      "Will train until cv error hasn't decreased in 100 rounds.\n",
      "[0]\tcv-test-auc:0.632560333333+0.00189615072069\tcv-train-auc:0.639232+0.00284711795798\n",
      "[10]\tcv-test-auc:0.65017+0.00768383354843\tcv-train-auc:0.663998333333+0.00214365207583\n",
      "[20]\tcv-test-auc:0.655122666667+0.00390477804178\tcv-train-auc:0.669553333333+0.00171023825501\n",
      "[30]\tcv-test-auc:0.657412666667+0.00357186639666\tcv-train-auc:0.672686666667+0.00153855913836\n",
      "[40]\tcv-test-auc:0.659599666667+0.00281722728149\tcv-train-auc:0.675220333333+0.00187440023\n",
      "[50]\tcv-test-auc:0.660518333333+0.00272018287784\tcv-train-auc:0.676879666667+0.0015326735537\n",
      "[60]\tcv-test-auc:0.661703+0.00254826856251\tcv-train-auc:0.678265+0.00151961047641\n",
      "[70]\tcv-test-auc:0.662205+0.00280434389237\tcv-train-auc:0.679908666667+0.00138798398966\n",
      "[80]\tcv-test-auc:0.662939+0.0027550616448\tcv-train-auc:0.681307333333+0.00129745503026\n",
      "[90]\tcv-test-auc:0.664005333333+0.00287497945886\tcv-train-auc:0.682670333333+0.00142480977288\n",
      "[100]\tcv-test-auc:0.664923+0.00282428055736\tcv-train-auc:0.684095+0.00157539857391\n",
      "[110]\tcv-test-auc:0.66552+0.00291904584867\tcv-train-auc:0.685375666667+0.00153679196886\n",
      "[120]\tcv-test-auc:0.666109333333+0.00279807199494\tcv-train-auc:0.686568333333+0.0015813581364\n",
      "[130]\tcv-test-auc:0.666793+0.00265179674938\tcv-train-auc:0.687946666667+0.00164444364114\n",
      "[140]\tcv-test-auc:0.667312333333+0.00259378235187\tcv-train-auc:0.689392+0.00180718916184\n",
      "[150]\tcv-test-auc:0.667805+0.00260405542696\tcv-train-auc:0.690712666667+0.00175700452159\n",
      "[160]\tcv-test-auc:0.668362333333+0.00247921779779\tcv-train-auc:0.692051333333+0.0017093492589\n",
      "[170]\tcv-test-auc:0.668780333333+0.00253374351942\tcv-train-auc:0.693346666667+0.00162887902832\n",
      "[180]\tcv-test-auc:0.669203666667+0.0026461131663\tcv-train-auc:0.694535666667+0.00146178095334\n",
      "[190]\tcv-test-auc:0.66967+0.00267995236276\tcv-train-auc:0.695853666667+0.00143126385486\n",
      "[200]\tcv-test-auc:0.670066+0.00274324965445\tcv-train-auc:0.697243333333+0.00147320655563\n",
      "[210]\tcv-test-auc:0.670393666667+0.0028908021186\tcv-train-auc:0.698374333333+0.00136418481967\n",
      "[220]\tcv-test-auc:0.670715+0.00296824830498\tcv-train-auc:0.699609333333+0.0013693816934\n",
      "[230]\tcv-test-auc:0.671066+0.00308515553363\tcv-train-auc:0.700828666667+0.00129070144581\n",
      "[240]\tcv-test-auc:0.671330666667+0.00307797577783\tcv-train-auc:0.701950333333+0.00133211869675\n",
      "[250]\tcv-test-auc:0.671609333333+0.00312676801542\tcv-train-auc:0.703130666667+0.00143187553773\n",
      "[260]\tcv-test-auc:0.671839+0.00317389802399\tcv-train-auc:0.704103333333+0.00144498888885\n",
      "[270]\tcv-test-auc:0.672066+0.00318505646208\tcv-train-auc:0.705105333333+0.00135215884997\n",
      "[280]\tcv-test-auc:0.672267666667+0.003213448027\tcv-train-auc:0.706107+0.00136528775966\n",
      "[290]\tcv-test-auc:0.672482333333+0.00316976784989\tcv-train-auc:0.707108333333+0.00142922854093\n",
      "[300]\tcv-test-auc:0.672649666667+0.00319753919271\tcv-train-auc:0.70804+0.00149693887651\n",
      "[310]\tcv-test-auc:0.672849+0.00323902958719\tcv-train-auc:0.709022333333+0.00157791113677\n",
      "[320]\tcv-test-auc:0.673001666667+0.00320049541304\tcv-train-auc:0.709906666667+0.00163716204316\n",
      "[330]\tcv-test-auc:0.673183333333+0.00321725870199\tcv-train-auc:0.710755+0.00174487210611\n",
      "[340]\tcv-test-auc:0.673319+0.00320511715855\tcv-train-auc:0.711569666667+0.00174781202905\n",
      "[350]\tcv-test-auc:0.67345+0.00320611613431\tcv-train-auc:0.712536666667+0.00178383600392\n",
      "[360]\tcv-test-auc:0.673542+0.00324119741248\tcv-train-auc:0.713365666667+0.00174691009754\n",
      "[370]\tcv-test-auc:0.673623+0.00321092925283\tcv-train-auc:0.714268+0.0018920371737\n",
      "[380]\tcv-test-auc:0.673752+0.00322696214212\tcv-train-auc:0.715139333333+0.0017312547152\n",
      "[390]\tcv-test-auc:0.673883666667+0.00324487383764\tcv-train-auc:0.715987+0.00174538190663\n",
      "[400]\tcv-test-auc:0.673952666667+0.00322518633398\tcv-train-auc:0.716797333333+0.00175380830069\n",
      "[410]\tcv-test-auc:0.674016333333+0.00320882536487\tcv-train-auc:0.717590333333+0.00169478461431\n",
      "[420]\tcv-test-auc:0.674121666667+0.00326574640099\tcv-train-auc:0.718490333333+0.00159156303328\n",
      "[430]\tcv-test-auc:0.674203+0.00327574551311\tcv-train-auc:0.719184333333+0.00164027423181\n",
      "[440]\tcv-test-auc:0.674322666667+0.0033438182101\tcv-train-auc:0.719994666667+0.00151376359522\n",
      "[450]\tcv-test-auc:0.674366666667+0.00334670448186\tcv-train-auc:0.720734666667+0.00153652645781\n",
      "[460]\tcv-test-auc:0.674524666667+0.00333991240737\tcv-train-auc:0.721547+0.00146773657945\n",
      "[470]\tcv-test-auc:0.674593666667+0.00337879804401\tcv-train-auc:0.722404666667+0.00139172826211\n",
      "[480]\tcv-test-auc:0.674702+0.00335984563137\tcv-train-auc:0.723135666667+0.00131242938434\n",
      "[490]\tcv-test-auc:0.674771333333+0.00336228179796\tcv-train-auc:0.723929333333+0.0013427663816\n",
      "[500]\tcv-test-auc:0.674828333333+0.00335499630733\tcv-train-auc:0.724649666667+0.00140517266634\n",
      "[510]\tcv-test-auc:0.674905333333+0.00332286235379\tcv-train-auc:0.725462+0.00137049066639\n",
      "[520]\tcv-test-auc:0.674985+0.00331450519183\tcv-train-auc:0.726258+0.00132838950111\n",
      "[530]\tcv-test-auc:0.675041666667+0.00330798834473\tcv-train-auc:0.726923+0.00133148213156\n",
      "[540]\tcv-test-auc:0.675087+0.00331682900775\tcv-train-auc:0.727628333333+0.00124958668722\n",
      "[550]\tcv-test-auc:0.675140333333+0.00334678276691\tcv-train-auc:0.728311+0.00122674963488\n",
      "[560]\tcv-test-auc:0.675244333333+0.0033489174702\tcv-train-auc:0.729009666667+0.00123912827782\n",
      "[570]\tcv-test-auc:0.675272333333+0.00332170561944\tcv-train-auc:0.729705333333+0.00128309738091\n",
      "[580]\tcv-test-auc:0.675311+0.00328703767345\tcv-train-auc:0.730359666667+0.00128170728154\n",
      "[590]\tcv-test-auc:0.675347666667+0.00331880996075\tcv-train-auc:0.7311+0.00129417464046\n",
      "[600]\tcv-test-auc:0.675359666667+0.00332351082776\tcv-train-auc:0.73182+0.00123698127175\n",
      "[610]\tcv-test-auc:0.675430666667+0.00339738235836\tcv-train-auc:0.732562666667+0.00111926205848\n",
      "[620]\tcv-test-auc:0.675443666667+0.00337604031703\tcv-train-auc:0.733153333333+0.00111351106366\n",
      "[630]\tcv-test-auc:0.675492+0.00337489466502\tcv-train-auc:0.733784666667+0.00105495855632\n",
      "[640]\tcv-test-auc:0.675525333333+0.00339823967502\tcv-train-auc:0.73443+0.00109871227656\n",
      "[650]\tcv-test-auc:0.675556+0.00340448948694\tcv-train-auc:0.735052666667+0.00108618609005\n",
      "[660]\tcv-test-auc:0.675555+0.00346406735885\tcv-train-auc:0.73571+0.00108903290431\n",
      "[670]\tcv-test-auc:0.675613333333+0.00344640579284\tcv-train-auc:0.736383333333+0.00106437378564\n",
      "[680]\tcv-test-auc:0.675642+0.00343275671533\tcv-train-auc:0.737074+0.00102322073213\n",
      "[690]\tcv-test-auc:0.675714+0.00343194007329\tcv-train-auc:0.737832+0.00107554916206\n",
      "[700]\tcv-test-auc:0.675728+0.0034486226236\tcv-train-auc:0.738454666667+0.00118451827996\n",
      "[710]\tcv-test-auc:0.675778+0.00347956405315\tcv-train-auc:0.739041+0.00127130484149\n",
      "[720]\tcv-test-auc:0.675779333333+0.00345154268247\tcv-train-auc:0.739646+0.00130836717578\n",
      "[730]\tcv-test-auc:0.675809333333+0.00343125441914\tcv-train-auc:0.740244333333+0.00123076164314\n",
      "[740]\tcv-test-auc:0.675868+0.00342399853972\tcv-train-auc:0.740901333333+0.00122111706601\n",
      "[750]\tcv-test-auc:0.675898333333+0.00346557434714\tcv-train-auc:0.741473+0.00119586983684\n",
      "[760]\tcv-test-auc:0.675926+0.00345496628059\tcv-train-auc:0.742023+0.00121070255086\n",
      "[770]\tcv-test-auc:0.675984+0.00348499325681\tcv-train-auc:0.742603333333+0.00122633392226\n",
      "[780]\tcv-test-auc:0.675994+0.00346657362055\tcv-train-auc:0.743247333333+0.00117771652881\n",
      "[790]\tcv-test-auc:0.676074+0.00348613405747\tcv-train-auc:0.743869+0.00115153318088\n",
      "[800]\tcv-test-auc:0.676048333333+0.00344092781415\tcv-train-auc:0.744457333333+0.00112136950001\n",
      "[810]\tcv-test-auc:0.676119333333+0.00344360202243\tcv-train-auc:0.745014333333+0.00114490300414\n",
      "[820]\tcv-test-auc:0.676151333333+0.00344439509284\tcv-train-auc:0.745527666667+0.00115620077072\n",
      "[830]\tcv-test-auc:0.676159333333+0.00344263797432\tcv-train-auc:0.746044666667+0.00110768507358\n",
      "[840]\tcv-test-auc:0.676192333333+0.00347001540182\tcv-train-auc:0.746588333333+0.00105777323762\n",
      "[850]\tcv-test-auc:0.676215333333+0.00353878720593\tcv-train-auc:0.747131666667+0.00109952029944\n",
      "[860]\tcv-test-auc:0.676179+0.00354574176537\tcv-train-auc:0.74766+0.00105762595783\n",
      "[870]\tcv-test-auc:0.67618+0.00353307014743\tcv-train-auc:0.748315333333+0.000996809019934\n",
      "[880]\tcv-test-auc:0.676164+0.00350095824977\tcv-train-auc:0.748892+0.000974702347728\n",
      "[890]\tcv-test-auc:0.676225666667+0.00349414961837\tcv-train-auc:0.749488333333+0.000969295391279\n",
      "[900]\tcv-test-auc:0.676228+0.00348332379584\tcv-train-auc:0.750017333333+0.00104445849872\n"
     ]
    },
    {
     "name": "stderr",
     "output_type": "stream",
     "text": [
      "[910]\tcv-test-auc:0.676268666667+0.00351466416919\tcv-train-auc:0.750532333333+0.00107720172463\n",
      "[920]\tcv-test-auc:0.676273666667+0.00355066100262\tcv-train-auc:0.751126666667+0.00104973086498\n",
      "[930]\tcv-test-auc:0.676284+0.00354517446679\tcv-train-auc:0.751747333333+0.00101797358621\n",
      "[940]\tcv-test-auc:0.676273333333+0.00355242690127\tcv-train-auc:0.752328+0.00106354783625\n",
      "[950]\tcv-test-auc:0.676287+0.00353144993829\tcv-train-auc:0.753025+0.000989739696419\n",
      "[960]\tcv-test-auc:0.676283333333+0.00354491996462\tcv-train-auc:0.75353+0.00106567255759\n",
      "[970]\tcv-test-auc:0.676319+0.00353914857934\tcv-train-auc:0.754089666667+0.00104804845096\n",
      "[980]\tcv-test-auc:0.676292666667+0.00353182109148\tcv-train-auc:0.754643666667+0.00103756167153\n",
      "[990]\tcv-test-auc:0.676329+0.00353135479196\tcv-train-auc:0.755249333333+0.000989542093878\n",
      "[1000]\tcv-test-auc:0.676340666667+0.00352567774414\tcv-train-auc:0.755719333333+0.000950256222757\n",
      "[1010]\tcv-test-auc:0.676364666667+0.0035370669896\tcv-train-auc:0.756146333333+0.000961090468629\n",
      "[1020]\tcv-test-auc:0.676355333333+0.00355871346916\tcv-train-auc:0.756683666667+0.000979774237034\n",
      "[1030]\tcv-test-auc:0.676350333333+0.0035369597428\tcv-train-auc:0.757177+0.000893934002038\n",
      "[1040]\tcv-test-auc:0.676370666667+0.00357552759122\tcv-train-auc:0.757691333333+0.000882461078777\n",
      "[1050]\tcv-test-auc:0.676373666667+0.00355670449839\tcv-train-auc:0.758193666667+0.00083797467477\n",
      "[1060]\tcv-test-auc:0.676366+0.00355449077459\tcv-train-auc:0.758654333333+0.000866784222796\n",
      "[1070]\tcv-test-auc:0.676373+0.00354073702309\tcv-train-auc:0.759063666667+0.000881492043198\n",
      "[1080]\tcv-test-auc:0.676455+0.00352279803565\tcv-train-auc:0.75959+0.000796600694618\n",
      "[1090]\tcv-test-auc:0.676442333333+0.00350333139867\tcv-train-auc:0.760041333333+0.000832361032779\n",
      "[1100]\tcv-test-auc:0.676442666667+0.00349216478547\tcv-train-auc:0.760509333333+0.000870854880116\n",
      "[1110]\tcv-test-auc:0.676447666667+0.00349260650836\tcv-train-auc:0.760958666667+0.000845006640342\n",
      "[1120]\tcv-test-auc:0.676449666667+0.00346726042992\tcv-train-auc:0.761421666667+0.000760673531958\n",
      "[1130]\tcv-test-auc:0.676442+0.00347192348226\tcv-train-auc:0.761938666667+0.000815857966942\n",
      "[1140]\tcv-test-auc:0.676444+0.00347010749113\tcv-train-auc:0.762370333333+0.000745410103381\n",
      "[1150]\tcv-test-auc:0.676460666667+0.00343226983529\tcv-train-auc:0.7628+0.000809764163198\n",
      "[1160]\tcv-test-auc:0.676497+0.00346047655678\tcv-train-auc:0.763231+0.000775709137929\n",
      "[1170]\tcv-test-auc:0.676503+0.00346765828766\tcv-train-auc:0.763677333333+0.000724320984708\n",
      "[1180]\tcv-test-auc:0.676516333333+0.00347617091384\tcv-train-auc:0.764147+0.000713614742\n",
      "[1190]\tcv-test-auc:0.676528666667+0.00344522174742\tcv-train-auc:0.764639666667+0.000746662053557\n",
      "[1200]\tcv-test-auc:0.676549666667+0.0034409581353\tcv-train-auc:0.765133+0.000736323751258\n",
      "[1210]\tcv-test-auc:0.676581+0.00342530232242\tcv-train-auc:0.765520666667+0.000764932386264\n",
      "[1220]\tcv-test-auc:0.676606333333+0.00341551844121\tcv-train-auc:0.766016333333+0.000792123867979\n",
      "[1230]\tcv-test-auc:0.676603333333+0.00339547800595\tcv-train-auc:0.766471+0.000763497653347\n",
      "[1240]\tcv-test-auc:0.676604+0.00338159163708\tcv-train-auc:0.766924666667+0.000792636668903\n",
      "[1250]\tcv-test-auc:0.676655333333+0.00332929004778\tcv-train-auc:0.767384333333+0.000770728371232\n",
      "[1260]\tcv-test-auc:0.676686333333+0.00334188233718\tcv-train-auc:0.767855666667+0.000784757428905\n",
      "[1270]\tcv-test-auc:0.676703333333+0.00334275039783\tcv-train-auc:0.768303333333+0.000745770444276\n",
      "[1280]\tcv-test-auc:0.676726+0.00329767867851\tcv-train-auc:0.768791+0.000780618131141\n",
      "[1290]\tcv-test-auc:0.67672+0.00331429640598\tcv-train-auc:0.769264333333+0.000736242864519\n",
      "[1300]\tcv-test-auc:0.676667+0.00328963959525\tcv-train-auc:0.769722666667+0.000712371781836\n",
      "[1310]\tcv-test-auc:0.676659333333+0.00328985919996\tcv-train-auc:0.770194333333+0.00071437447385\n",
      "[1320]\tcv-test-auc:0.676638666667+0.00326010800775\tcv-train-auc:0.770576+0.000674383174958\n",
      "[1330]\tcv-test-auc:0.676620666667+0.00325970431515\tcv-train-auc:0.771091333333+0.000502145618543\n",
      "[1340]\tcv-test-auc:0.676614+0.0032381312512\tcv-train-auc:0.771476666667+0.000510091712887\n",
      "[1350]\tcv-test-auc:0.676594666667+0.00322601656674\tcv-train-auc:0.7719+0.000464146528588\n",
      "[1360]\tcv-test-auc:0.67657+0.00321762593641\tcv-train-auc:0.772310666667+0.000433729818615\n",
      "[1370]\tcv-test-auc:0.676577333333+0.00316929480414\tcv-train-auc:0.772697666667+0.000511866084918\n",
      "Stopping. Best iteration:\n",
      "[1277] cv-mean:0.676734333333\tcv-std:0.00329308946466\n"
     ]
    }
   ],
   "source": [
    "iterations = xgb_cv(train_feature, train_label, params, config['rounds'])"
   ]
  },
  {
   "cell_type": "code",
   "execution_count": 194,
   "metadata": {
    "collapsed": true
   },
   "outputs": [],
   "source": [
    "import winsound\n",
    "winsound.Beep(600,1000)"
   ]
  },
  {
   "cell_type": "code",
   "execution_count": null,
   "metadata": {
    "collapsed": true,
    "scrolled": true
   },
   "outputs": [],
   "source": [
    "model, pred = xgb_predict(train_feature, train_label, test_feature, iterations, params)"
   ]
  },
  {
   "cell_type": "code",
   "execution_count": null,
   "metadata": {
    "collapsed": true
   },
   "outputs": [],
   "source": [
    "importance = pd.DataFrame(model.get_fscore().items(), columns=['feature','importance']).sort_values('importance', ascending=False)\n",
    "importance.to_csv('../data/output/feat_imp/importance.csv', index = False)"
   ]
  },
  {
   "cell_type": "code",
   "execution_count": null,
   "metadata": {
    "collapsed": true
   },
   "outputs": [],
   "source": [
    "res = store_result(test_index, pred, 0.5, '1122-xgb-entbase_only.csv')"
   ]
  }
 ],
 "metadata": {
  "kernelspec": {
   "display_name": "Python 2",
   "language": "python",
   "name": "python2"
  },
  "language_info": {
   "codemirror_mode": {
    "name": "ipython",
    "version": 2
   },
   "file_extension": ".py",
   "mimetype": "text/x-python",
   "name": "python",
   "nbconvert_exporter": "python",
   "pygments_lexer": "ipython2",
   "version": "2.7.13"
  }
 },
 "nbformat": 4,
 "nbformat_minor": 2
}
